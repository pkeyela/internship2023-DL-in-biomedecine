{
 "cells": [
  {
   "cell_type": "code",
   "execution_count": 1,
   "id": "34fb21d2-aa40-4232-8e61-3b6cd098f8ce",
   "metadata": {},
   "outputs": [],
   "source": [
    "%matplotlib inline\n",
    "import os, csv, time, datetime\n",
    "import pandas as pd\n",
    "import cv2\n",
    "import numpy as np\n",
    "import matplotlib.pyplot as plt\n",
    "\n",
    "import torch\n",
    "import torch.optim as optim\n",
    "from torch.utils.data import DataLoader\n",
    "import torchvision.transforms as transforms\n",
    "from torchinfo import summary "
   ]
  },
  {
   "cell_type": "markdown",
   "id": "79105f3c-a28f-4171-8214-d58fd5ab9e64",
   "metadata": {
    "tags": []
   },
   "source": [
    "# PREPROCESSING"
   ]
  },
  {
   "cell_type": "code",
   "execution_count": 2,
   "id": "ce3663a0-80d2-4a03-bd72-d58345c97f0e",
   "metadata": {},
   "outputs": [],
   "source": [
    "def makeDataFrame(data_location, save_annot_to, output_csv):\n",
    "    class_names = os.listdir(\n",
    "        data_location)  # Получать название файлов, которые отдельно сохраняют классы\n",
    "    class_names.sort()  # Сортируем чтобы совпало с тестовым датасетом\n",
    "    with open(os.path.join(save_annot_to, output_csv), 'w', newline='') as tocsv:\n",
    "        csvfile = csv.writer(tocsv, delimiter=',')\n",
    "        csvfile.writerow(['file_name', 'file_path', 'class_name',\n",
    "                        'class_index'])  # create column names\n",
    "        for _class in class_names:\n",
    "            # Путь к каждому классу\n",
    "            class_folder = os.path.join(data_location, _class)\n",
    "            \n",
    "            # Список всех изображений\n",
    "            class_img_list = os.listdir(class_folder)\n",
    "            for imagejpg in class_img_list:\n",
    "                \n",
    "                # Путь к каждому изображению\n",
    "                imagejpg_path = os.path.join(class_folder, imagejpg)\n",
    "                \n",
    "                # Записать в файле csv название изоб., путь к ему, его класс, и индекс класса\n",
    "                csvfile.writerow(\n",
    "                    [imagejpg, imagejpg_path, _class, class_names.index(_class)-1])\n",
    "    return pd.read_csv(os.path.join(save_annot_to, output_csv))\n",
    "\n",
    "\n",
    "# Посмотрите все классы с индексами\n",
    "def check_dataframe(dataset_df):\n",
    "    class_zip = zip(dataset_df['class_index'], dataset_df['class_name'])\n",
    "    class_list = list(class_zip)\n",
    "    return sorted(list(set(class_list)))\n",
    "\n",
    "#  Преобразование изображений \n",
    "def transform_normalize():\n",
    "    image_transform = transforms.Compose([\n",
    "        transforms.ToTensor(),\n",
    "        transforms.Normalize(mean=[0.5], std=[0.5])\n",
    "    ])\n",
    "    return image_transform"
   ]
  },
  {
   "cell_type": "code",
   "execution_count": 3,
   "id": "12217d2c-b446-48da-b363-6b681f91982d",
   "metadata": {},
   "outputs": [],
   "source": [
    "# for classn in class_names:\n",
    "#     os.makedirs(os.path.join('../data/train',classn))"
   ]
  },
  {
   "cell_type": "code",
   "execution_count": 5,
   "id": "1047aaa7-96eb-432e-a5e5-ebef5cf9ba19",
   "metadata": {},
   "outputs": [],
   "source": [
    "# CONSTANTS\n",
    "\n",
    "# Location of the data\n",
    "DATA_TRAIN_PATH = r'../data/train'\n",
    "DATA_TEST_PATH = r'../data/test'\n",
    "DF_PATH = r'../dataframes'\n",
    "\n",
    "# INPUT OF OUR CONV NN\n",
    "IMG_INPUT_WIDTH = 150\n",
    "IMG_INPUT_HEIGHT = 150\n",
    "IMG_INPUT_CHANNELS = 1\n",
    "\n",
    "# MODEL CHARARCTERISTICS\n",
    "BATCH_SIZE = 16\n",
    "SAVE_MODEL_TO = r'../model'"
   ]
  },
  {
   "cell_type": "code",
   "execution_count": 6,
   "id": "2f865211-fda0-4add-8699-3655b6569874",
   "metadata": {},
   "outputs": [],
   "source": [
    "# Make annotations for training and test data\n",
    "train_df = makeDataFrame(DATA_TRAIN_PATH,DF_PATH,'train.csv')\n",
    "test_df = makeDataFrame(DATA_TEST_PATH,DF_PATH,'test.csv')"
   ]
  },
  {
   "cell_type": "code",
   "execution_count": 7,
   "id": "971c13bb-2138-411a-886f-3168eb02a6aa",
   "metadata": {},
   "outputs": [
    {
     "data": {
      "text/html": [
       "<div>\n",
       "<style scoped>\n",
       "    .dataframe tbody tr th:only-of-type {\n",
       "        vertical-align: middle;\n",
       "    }\n",
       "\n",
       "    .dataframe tbody tr th {\n",
       "        vertical-align: top;\n",
       "    }\n",
       "\n",
       "    .dataframe thead th {\n",
       "        text-align: right;\n",
       "    }\n",
       "</style>\n",
       "<table border=\"1\" class=\"dataframe\">\n",
       "  <thead>\n",
       "    <tr style=\"text-align: right;\">\n",
       "      <th></th>\n",
       "      <th>file_name</th>\n",
       "      <th>file_path</th>\n",
       "      <th>class_name</th>\n",
       "      <th>class_index</th>\n",
       "    </tr>\n",
       "  </thead>\n",
       "  <tbody>\n",
       "    <tr>\n",
       "      <th>248</th>\n",
       "      <td>Video_Morris_Maze_Before_Irradiation_Day3_Prot...</td>\n",
       "      <td>../data/train/Random search/Video_Morris_Maze_...</td>\n",
       "      <td>Random search</td>\n",
       "      <td>5</td>\n",
       "    </tr>\n",
       "    <tr>\n",
       "      <th>352</th>\n",
       "      <td>Video_Morris_Maze_Before_Irradiation_Day1_Prot...</td>\n",
       "      <td>../data/train/Thigmotaxis/Video_Morris_Maze_Be...</td>\n",
       "      <td>Thigmotaxis</td>\n",
       "      <td>7</td>\n",
       "    </tr>\n",
       "    <tr>\n",
       "      <th>334</th>\n",
       "      <td>Video_Morris_Maze_90_days_Day1_Control_rat5_11...</td>\n",
       "      <td>../data/train/Scanning/Video_Morris_Maze_90_da...</td>\n",
       "      <td>Scanning</td>\n",
       "      <td>6</td>\n",
       "    </tr>\n",
       "  </tbody>\n",
       "</table>\n",
       "</div>"
      ],
      "text/plain": [
       "                                             file_name  \\\n",
       "248  Video_Morris_Maze_Before_Irradiation_Day3_Prot...   \n",
       "352  Video_Morris_Maze_Before_Irradiation_Day1_Prot...   \n",
       "334  Video_Morris_Maze_90_days_Day1_Control_rat5_11...   \n",
       "\n",
       "                                             file_path     class_name  \\\n",
       "248  ../data/train/Random search/Video_Morris_Maze_...  Random search   \n",
       "352  ../data/train/Thigmotaxis/Video_Morris_Maze_Be...    Thigmotaxis   \n",
       "334  ../data/train/Scanning/Video_Morris_Maze_90_da...       Scanning   \n",
       "\n",
       "     class_index  \n",
       "248            5  \n",
       "352            7  \n",
       "334            6  "
      ]
     },
     "execution_count": 7,
     "metadata": {},
     "output_type": "execute_result"
    }
   ],
   "source": [
    "train_df.sample(3)"
   ]
  },
  {
   "cell_type": "code",
   "execution_count": 8,
   "id": "100622fc-a2f0-41ac-b110-13ef0b6adcc4",
   "metadata": {},
   "outputs": [
    {
     "data": {
      "text/html": [
       "<div>\n",
       "<style scoped>\n",
       "    .dataframe tbody tr th:only-of-type {\n",
       "        vertical-align: middle;\n",
       "    }\n",
       "\n",
       "    .dataframe tbody tr th {\n",
       "        vertical-align: top;\n",
       "    }\n",
       "\n",
       "    .dataframe thead th {\n",
       "        text-align: right;\n",
       "    }\n",
       "</style>\n",
       "<table border=\"1\" class=\"dataframe\">\n",
       "  <thead>\n",
       "    <tr style=\"text-align: right;\">\n",
       "      <th></th>\n",
       "      <th>file_name</th>\n",
       "      <th>file_path</th>\n",
       "      <th>class_name</th>\n",
       "      <th>class_index</th>\n",
       "    </tr>\n",
       "  </thead>\n",
       "  <tbody>\n",
       "    <tr>\n",
       "      <th>0</th>\n",
       "      <td>Video_Morris_Maze_30_days_Day2_Protons_rat1_11...</td>\n",
       "      <td>../data/test/Chaining/Video_Morris_Maze_30_day...</td>\n",
       "      <td>Chaining</td>\n",
       "      <td>0</td>\n",
       "    </tr>\n",
       "    <tr>\n",
       "      <th>1</th>\n",
       "      <td>Video_Morris_Maze_30_days_Day1_Protons_rat2_12...</td>\n",
       "      <td>../data/test/Chaining/Video_Morris_Maze_30_day...</td>\n",
       "      <td>Chaining</td>\n",
       "      <td>0</td>\n",
       "    </tr>\n",
       "    <tr>\n",
       "      <th>2</th>\n",
       "      <td>Video_Morris_Maze_30_days_Day1_Protons_rat7_12...</td>\n",
       "      <td>../data/test/Chaining/Video_Morris_Maze_30_day...</td>\n",
       "      <td>Chaining</td>\n",
       "      <td>0</td>\n",
       "    </tr>\n",
       "    <tr>\n",
       "      <th>3</th>\n",
       "      <td>Video_Morris_Maze_30_days_Day2_Control_rat5_11...</td>\n",
       "      <td>../data/test/Chaining/Video_Morris_Maze_30_day...</td>\n",
       "      <td>Chaining</td>\n",
       "      <td>0</td>\n",
       "    </tr>\n",
       "    <tr>\n",
       "      <th>4</th>\n",
       "      <td>Video_Morris_Maze_30_days_Day2_Protons_rat5_11...</td>\n",
       "      <td>../data/test/Chaining/Video_Morris_Maze_30_day...</td>\n",
       "      <td>Chaining</td>\n",
       "      <td>0</td>\n",
       "    </tr>\n",
       "  </tbody>\n",
       "</table>\n",
       "</div>"
      ],
      "text/plain": [
       "                                           file_name  \\\n",
       "0  Video_Morris_Maze_30_days_Day2_Protons_rat1_11...   \n",
       "1  Video_Morris_Maze_30_days_Day1_Protons_rat2_12...   \n",
       "2  Video_Morris_Maze_30_days_Day1_Protons_rat7_12...   \n",
       "3  Video_Morris_Maze_30_days_Day2_Control_rat5_11...   \n",
       "4  Video_Morris_Maze_30_days_Day2_Protons_rat5_11...   \n",
       "\n",
       "                                           file_path class_name  class_index  \n",
       "0  ../data/test/Chaining/Video_Morris_Maze_30_day...   Chaining            0  \n",
       "1  ../data/test/Chaining/Video_Morris_Maze_30_day...   Chaining            0  \n",
       "2  ../data/test/Chaining/Video_Morris_Maze_30_day...   Chaining            0  \n",
       "3  ../data/test/Chaining/Video_Morris_Maze_30_day...   Chaining            0  \n",
       "4  ../data/test/Chaining/Video_Morris_Maze_30_day...   Chaining            0  "
      ]
     },
     "execution_count": 8,
     "metadata": {},
     "output_type": "execute_result"
    }
   ],
   "source": [
    "test_df.head()"
   ]
  },
  {
   "cell_type": "code",
   "execution_count": 9,
   "id": "842b29b1-19ba-4e59-aa64-6bdba5e1484e",
   "metadata": {},
   "outputs": [],
   "source": [
    "# Delete rows with '.ipynb_checkpoints'\n",
    "train_df = train_df[~(train_df['file_name']=='.ipynb_checkpoints')]\n",
    "test_df = test_df[~(test_df['file_name']=='.ipynb_checkpoints')]"
   ]
  },
  {
   "cell_type": "code",
   "execution_count": 10,
   "id": "e73d9ba2-5c14-4640-bbfe-487c7730df38",
   "metadata": {},
   "outputs": [
    {
     "name": "stdout",
     "output_type": "stream",
     "text": [
      "Class names: ['Chaining', 'Direct path', 'Direct search', 'Focal search', 'Indirect search', 'Random search', 'Scanning', 'Thigmotaxis']\n",
      "[(0, 'Chaining'), (1, 'Direct path'), (2, 'Direct search'), (3, 'Focal search'), (4, 'Indirect search'), (5, 'Random search'), (6, 'Scanning'), (7, 'Thigmotaxis')]\n",
      "[(0, 'Chaining'), (1, 'Direct path'), (2, 'Direct search'), (3, 'Focal search'), (4, 'Indirect search'), (5, 'Random search'), (6, 'Scanning'), (7, 'Thigmotaxis')]\n"
     ]
    }
   ],
   "source": [
    "# Check the correctness of classes and indexes\n",
    "class_names = list(train_df['class_name'].unique())\n",
    "print(f'Class names: {class_names}')\n",
    "print(check_dataframe(train_df))\n",
    "print(check_dataframe(test_df))"
   ]
  },
  {
   "cell_type": "code",
   "execution_count": 11,
   "id": "1ac30c01-3552-4d63-a4b7-5385df9c574a",
   "metadata": {},
   "outputs": [
    {
     "name": "stdout",
     "output_type": "stream",
     "text": [
      "Train dataset\n",
      "Chaining:\t\t32 images\n",
      "Direct path:\t\t54 images\n",
      "Direct search:\t\t24 images\n",
      "Focal search:\t\t37 images\n",
      "Indirect search:\t\t47 images\n",
      "Random search:\t\t90 images\n",
      "Scanning:\t\t53 images\n",
      "Thigmotaxis:\t\t13 images\n",
      "\n",
      "Test dataset\n",
      "Chaining:\t\t8 images\n",
      "Direct path:\t\t13 images\n",
      "Direct search:\t\t6 images\n",
      "Focal search:\t\t9 images\n",
      "Indirect search:\t\t12 images\n",
      "Random search:\t\t22 images\n",
      "Scanning:\t\t13 images\n",
      "Thigmotaxis:\t\t5 images\n"
     ]
    }
   ],
   "source": [
    "# How big are our the datasets?\n",
    "for dataname, dataset in zip([\"Train dataset\",\"\\nTest dataset\"],[train_df, test_df]):\n",
    "    print(dataname)\n",
    "    for i in range(len(class_names)):\n",
    "        num = sum(dataset['class_index'] == i)\n",
    "        print(f'{class_names[i].capitalize()}:\\t\\t{num} images')"
   ]
  },
  {
   "cell_type": "markdown",
   "id": "d8357c2f-0577-42e0-bf86-728057560fb5",
   "metadata": {
    "tags": []
   },
   "source": [
    "# DATASET CLASS"
   ]
  },
  {
   "cell_type": "code",
   "execution_count": 12,
   "id": "4d1397d4-1bc3-4e35-8df8-668e9b9e6c62",
   "metadata": {},
   "outputs": [],
   "source": [
    "class thigmotaxisDataset(torch.utils.data.Dataset):\n",
    "    def __init__(self, data_df,IMG_SIZE = (IMG_INPUT_WIDTH,IMG_INPUT_HEIGHT), transform=None):\n",
    "        self.data_df = data_df\n",
    "        # root directory of images, leave \"\" if using the image path column in the __getitem__ method\n",
    "        self.root_directory = \"\"\n",
    "        self.transform = transform\n",
    "        self.dim = IMG_SIZE\n",
    "\n",
    "    def __len__(self):\n",
    "        # return length (numer of rows) of the dataframe\n",
    "        return len(self.data_df)\n",
    "\n",
    "    def __getitem__(self, idx):\n",
    "        \n",
    "        # use class name column (index = 2) in csv file\n",
    "        class_name = self.data_df.iloc[idx, 2]\n",
    "        # use class index column (index = 3) in csv file\n",
    "        class_index = self.data_df.iloc[idx, 3]\n",
    "        \n",
    "        # use image path column (index = 1) in csv file\n",
    "        image_path = self.data_df.iloc[idx, 1]\n",
    "        image = cv2.imread(image_path)  # read image by cv2\n",
    "        \n",
    "        if image is None:\n",
    "            image,class_name,class_index = self.__getitem__(idx-1)\n",
    "        \n",
    "        # convert from BGR to GRAY\n",
    "        image = cv2.cvtColor(image, cv2.COLOR_BGR2GRAY)\n",
    "        # Resize the image to IMG_SIZE\n",
    "        image = cv2.resize(image,dsize=self.dim, interpolation=cv2.INTER_AREA)\n",
    "        \n",
    "        # # DIlATE THE IMAGE FOR BETTER RESULTS\n",
    "        # kernel = np.ones((3, 3), 'uint8')\n",
    "        # image = cv2.dilate(image, kernel, iterations=1)\n",
    "        \n",
    "        # BINARIZE THE IMAGE\n",
    "        ret,image = cv2.threshold(image,1,255,cv2.THRESH_BINARY)\n",
    "        \n",
    "        if self.transform:\n",
    "            image = self.transform(image)\n",
    "        # when accessing an instance via index, 3 outputs are returned - the image, class name and class index\n",
    "        return image, class_name, class_index\n",
    "\n",
    "    def visualize(self, n_sample=10, figsize=(12,6)):\n",
    "        plt.figure(figsize=figsize)\n",
    "        nrows = int(np.ceil(n_sample/5)) # figure = nrows * 5columns plots \n",
    "        for i in range(n_sample):\n",
    "            idx = np.random.randint(0, len(self.data_df))\n",
    "            image, class_name, class_index = self.__getitem__(idx)\n",
    "            ax = plt.subplot(nrows, 5, i+1)  # create an axis\n",
    "            # create a name of the axis based on the img name\n",
    "            ax.title.set_text(f'{class_name}-{str(class_index)}')\n",
    "            ax.set_xticks([])\n",
    "            ax.set_yticks([])\n",
    "            if self.transform == None:\n",
    "                plt.imshow(image)\n",
    "            else:\n",
    "                plt.imshow((0.5+0.5*image).permute(1, 2, 0),cmap='gray')\n",
    "        plt.tight_layout()"
   ]
  },
  {
   "cell_type": "code",
   "execution_count": 13,
   "id": "86d5636f-55c2-4b13-b559-2afbe98a400e",
   "metadata": {},
   "outputs": [],
   "source": [
    "# TRANSFORM DATA\n",
    "image_transform = transform_normalize()\n",
    "\n",
    "trainDataset = thigmotaxisDataset(train_df, transform=image_transform)\n",
    "testDataset = thigmotaxisDataset(test_df, transform=image_transform)"
   ]
  },
  {
   "cell_type": "code",
   "execution_count": null,
   "id": "a9e16da4-534b-4c1b-9484-4a0b694b816b",
   "metadata": {},
   "outputs": [],
   "source": [
    "# image = cv2.imread(train_df['file_path'][32])\n",
    "# # convert from BGR to GRAY\n",
    "# image = cv2.cvtColor(image, cv2.COLOR_BGR2GRAY)\n",
    "# # Resize the image to IMG_SIZE\n",
    "# image = cv2.resize(image,dsize=(150,150), interpolation=cv2.INTER_AREA)\n",
    "\n",
    "# # BINARIZE THE IMAGE\n",
    "# ret,image = cv2.threshold(image,1,255,cv2.THRESH_BINARY)\n",
    "# # # DIlATE THE IMAGE FOR BETTER RESULTS\n",
    "# # kernel = np.ones((3, 3), 'uint8')\n",
    "# # image = cv2.dilate(image, kernel, iterations=1)\n",
    "\n",
    "# cv2.imwrite('savedImage.jpg',image)\n",
    "# plt.figure(figsize=(6,6))\n",
    "# plt.imshow(image,cmap='gray')\n",
    "\n",
    "# plt.show()"
   ]
  },
  {
   "cell_type": "code",
   "execution_count": 14,
   "id": "9689f5e1-c575-4e26-9e78-103e13dfa8a3",
   "metadata": {},
   "outputs": [
    {
     "data": {
      "image/png": "[encoded data removed]",
      "text/plain": [
       "<Figure size 1200x600 with 10 Axes>"
      ]
     },
     "metadata": {},
     "output_type": "display_data"
    }
   ],
   "source": [
    "trainDataset.visualize()"
   ]
  },
  {
   "cell_type": "markdown",
   "id": "5eaa0fb1-85dc-4291-8a4b-0e9f02ed387f",
   "metadata": {
    "tags": []
   },
   "source": [
    "# DATALOADER"
   ]
  },
  {
   "cell_type": "code",
   "execution_count": 136,
   "id": "9fae83fe-1584-40bb-af93-b9dcb7bec724",
   "metadata": {},
   "outputs": [],
   "source": [
    "# Number of cpus (for parallel programming)\n",
    "# !lscpu"
   ]
  },
  {
   "cell_type": "code",
   "execution_count": 15,
   "id": "58e31486-ea75-40cf-9d9d-a6830db6e2df",
   "metadata": {},
   "outputs": [],
   "source": [
    "trainloader = DataLoader(trainDataset, batch_size=BATCH_SIZE, shuffle=True, num_workers=10)\n",
    "testloader = DataLoader(testDataset, batch_size=BATCH_SIZE, shuffle=True, num_workers=10)"
   ]
  },
  {
   "cell_type": "code",
   "execution_count": 16,
   "id": "561e618f-570b-415f-af1b-f725b8d0d64a",
   "metadata": {},
   "outputs": [],
   "source": [
    "## import torch.nn.functional as F\n",
    "import torch.nn.functional as F\n",
    "\n",
    "class Net(torch.nn.Module):\n",
    "    def __init__(self):\n",
    "        super().__init__()\n",
    "        self.conv1 = torch.nn.Conv2d(in_channels=1, out_channels=20,kernel_size=9)\n",
    "        self.pool1 = torch.nn.MaxPool2d(kernel_size=11,stride=1)\n",
    "        self.conv2 = torch.nn.Conv2d(in_channels=20, out_channels=50,kernel_size=5)\n",
    "        self.pool2 = torch.nn.MaxPool2d(kernel_size=8,stride=5)\n",
    "        \n",
    "        self.fc1 = torch.nn.Linear(50*25*25, 500)\n",
    "        self.fc2 = torch.nn.Linear(500, 8)\n",
    "\n",
    "    def forward(self, x):\n",
    "        x = self.pool1(F.relu(self.conv1(x)))\n",
    "        x = self.pool2(F.relu(self.conv2(x)))\n",
    "        x = torch.flatten(x, 1) # flatten all dimensions except batch\n",
    "        x = self.fc1(x)\n",
    "        x = F.relu(F.dropout(x, 0.25))\n",
    "        x = self.fc2(x)\n",
    "        return x"
   ]
  },
  {
   "cell_type": "markdown",
   "id": "f1516281-ce6f-48b5-8c8b-8ebb434dc150",
   "metadata": {
    "jp-MarkdownHeadingCollapsed": true,
    "tags": []
   },
   "source": [
    "# Check image size in layers of the network"
   ]
  },
  {
   "cell_type": "code",
   "execution_count": 91,
   "id": "1ba5a072-ff9d-4542-9788-142196065f47",
   "metadata": {},
   "outputs": [],
   "source": [
    "conv1 = torch.nn.Conv2d(in_channels=1, out_channels=20,kernel_size=9)\n",
    "pool1 = torch.nn.MaxPool2d(kernel_size=11,stride=1)\n",
    "conv2 = torch.nn.Conv2d(in_channels=20, out_channels=50,kernel_size=5)\n",
    "pool2 = torch.nn.MaxPool2d(kernel_size=8,stride=5)"
   ]
  },
  {
   "cell_type": "code",
   "execution_count": 92,
   "id": "12b1e962-f8a9-4b25-ab14-d1100e5ca84a",
   "metadata": {},
   "outputs": [
    {
     "data": {
      "text/plain": [
       "torch.Size([1, 150, 150])"
      ]
     },
     "execution_count": 92,
     "metadata": {},
     "output_type": "execute_result"
    }
   ],
   "source": [
    "inputx.shape"
   ]
  },
  {
   "cell_type": "code",
   "execution_count": 93,
   "id": "26074660-9b44-4715-a9ab-fe1ca2a1b594",
   "metadata": {},
   "outputs": [
    {
     "data": {
      "text/plain": [
       "torch.Size([20, 132, 132])"
      ]
     },
     "execution_count": 93,
     "metadata": {},
     "output_type": "execute_result"
    }
   ],
   "source": [
    "output = pool1(F.relu(conv1(inputx)))\n",
    "output.shape"
   ]
  },
  {
   "cell_type": "code",
   "execution_count": 94,
   "id": "af77d0c6-bff4-42b5-bc0c-2521e15c7567",
   "metadata": {},
   "outputs": [
    {
     "data": {
      "text/plain": [
       "torch.Size([50, 25, 25])"
      ]
     },
     "execution_count": 94,
     "metadata": {},
     "output_type": "execute_result"
    }
   ],
   "source": [
    "output = pool2(F.relu(conv2(output)))\n",
    "output.shape"
   ]
  },
  {
   "cell_type": "markdown",
   "id": "076aba67-a59b-427f-bbe9-a87fa6735953",
   "metadata": {},
   "source": [
    "# Training section"
   ]
  },
  {
   "cell_type": "code",
   "execution_count": 17,
   "id": "2b4541f0-7307-42b1-b564-77d5c1331e26",
   "metadata": {},
   "outputs": [],
   "source": [
    "def default_loss():\n",
    "    return torch.nn.CrossEntropyLoss()\n",
    "\n",
    "def default_optimizer(model, learning_rate = 0.001):\n",
    "    return optim.SGD(model.parameters(), lr = learning_rate,momentum=0.9)\n",
    "\n",
    "def get_default_device():\n",
    "    \"\"\"Picking GPU if available or else CPU\"\"\"\n",
    "    if torch.cuda.is_available():\n",
    "        return torch.device('cuda')\n",
    "    else:\n",
    "        return torch.device('cpu')"
   ]
  },
  {
   "cell_type": "code",
   "execution_count": 18,
   "id": "0dbb957c-c16a-4869-864b-94d21b0a49fa",
   "metadata": {},
   "outputs": [],
   "source": [
    "def train_model(model, device, trainloader, testloader, criterion, optimizer, num_epochs=5):\n",
    "    # device = get_default_device()\n",
    "    model = model.to(device)\n",
    "    train_result_dict = {'epoch': [], 'train_loss': [],'test_loss': [],\n",
    "                         'train_accuracy': [],'test_accuracy': [], 'time': []}\n",
    "\n",
    "    for epoch in range(num_epochs):\n",
    "        start_time = time.time()\n",
    "        train_loss = 0.0\n",
    "        train_correct = 0\n",
    "        train_total = 0\n",
    "        model.train()  # set the model to training mode, parameters are updated\n",
    "        for i, data in enumerate(trainloader, 0):\n",
    "            image, class_name, class_index = data\n",
    "            image = image.to(device)\n",
    "            class_index = class_index.to(device)\n",
    "            optimizer.zero_grad()  # zero the parameter gradients\n",
    "            outputs = model(image)  # forward propagation\n",
    "            loss = criterion(outputs, class_index)  # loss calculation\n",
    "            train_loss += loss.item()\n",
    "            loss.backward()  # backward propagation\n",
    "            optimizer.step()  # params update\n",
    "                  \n",
    "            _, predicted = torch.max(outputs.data, 1)\n",
    "            train_total += class_index.size(0)\n",
    "            train_correct += (predicted == class_index).sum().item()\n",
    "            \n",
    "        # Here Test(validation) \n",
    "        test_loss = 0.0\n",
    "        test_correct = 0\n",
    "        test_total = 0\n",
    "        model.eval()  # set the model to evaluation mode, parameters are frozen\n",
    "        for i, data in enumerate(testloader, 0):\n",
    "            image, class_name, class_index = data\n",
    "            image = image.to(device)\n",
    "            class_index = class_index.to(device)\n",
    "            outputs = model(image)\n",
    "            loss = criterion(outputs, class_index)\n",
    "            test_loss += loss.item()\n",
    "            \n",
    "            \n",
    "            _, predicted = torch.max(outputs.data, 1)\n",
    "            test_total += class_index.size(0)\n",
    "            test_correct += (predicted == class_index).sum().item()\n",
    "\n",
    "        # print statistics every 1 epoch\n",
    "        # divide by the length of the minibatch because loss.item() returns the loss of the whole minibatch\n",
    "        train_loss_result = round(train_loss / len(trainloader), 3)\n",
    "        test_loss_result = round(test_loss / len(testloader), 3)\n",
    "        train_accuracy = round(float(train_correct)/float(train_total)*100, 2)\n",
    "        test_accuracy = round(float(test_correct)/float(test_total)*100, 2)\n",
    "\n",
    "        epoch_time = round(time.time() - start_time, 1)\n",
    "        # add statistics to the dictionary:\n",
    "        train_result_dict['epoch'].append(epoch + 1)\n",
    "        train_result_dict['train_loss'].append(train_loss_result)\n",
    "        train_result_dict['test_loss'].append(test_loss_result)\n",
    "        train_result_dict['train_accuracy'].append(train_accuracy)\n",
    "        train_result_dict['test_accuracy'].append(test_accuracy)\n",
    "        train_result_dict['time'].append(epoch_time)\n",
    "\n",
    "        print(f' Epoch {epoch+1} \\t Training Loss: {train_loss_result} \\t Test Loss: {test_loss_result}') \n",
    "        print(f' Epoch Train Accuracy (%): {train_accuracy} \\t Epoch test Accuracy (%) {test_accuracy}')\n",
    "        print(f' Epoch Time (s): {epoch_time}')\n",
    "    # return the trained model and the loss dictionary\n",
    "    return model, train_result_dict"
   ]
  },
  {
   "cell_type": "code",
   "execution_count": 19,
   "id": "8e7a27cf-1b3d-4dee-9f96-2390e795dd8d",
   "metadata": {},
   "outputs": [],
   "source": [
    "# Initialize key variables\n",
    "model = Net()\n",
    "criterion = default_loss()\n",
    "optimizer = default_optimizer(model)\n",
    "device = get_default_device()\n",
    "num_epochs = 10"
   ]
  },
  {
   "cell_type": "code",
   "execution_count": 20,
   "id": "355458b6-5ddb-400f-8dd5-af4c929d1b01",
   "metadata": {},
   "outputs": [],
   "source": [
    "def summary_model(model, device):\n",
    "    \"\"\" Move model to GPU and print model summary\n",
    "    \"\"\"\n",
    "    # Define the model and move it to GPU:\n",
    "    model = model\n",
    "    model = model.to(device)\n",
    "    print(f'Current device: {str(device)}')\n",
    "    print(f'Is Model on CUDA: {str(next(model.parameters()).is_cuda)}')\n",
    "    \n",
    "    # Display model summary:\n",
    "    return summary(model, input_size=(BATCH_SIZE,IMG_INPUT_CHANNELS, IMG_INPUT_WIDTH, IMG_INPUT_HEIGHT))"
   ]
  },
  {
   "cell_type": "code",
   "execution_count": 21,
   "id": "be2d927b-d4a9-46a6-8814-c6b2a36b4805",
   "metadata": {},
   "outputs": [
    {
     "name": "stdout",
     "output_type": "stream",
     "text": [
      "Current device: cpu\n",
      "Is Model on CUDA: False\n"
     ]
    },
    {
     "data": {
      "text/plain": [
       "==========================================================================================\n",
       "Layer (type:depth-idx)                   Output Shape              Param #\n",
       "==========================================================================================\n",
       "Net                                      [16, 8]                   --\n",
       "├─Conv2d: 1-1                            [16, 20, 142, 142]        1,640\n",
       "├─MaxPool2d: 1-2                         [16, 20, 132, 132]        --\n",
       "├─Conv2d: 1-3                            [16, 50, 128, 128]        25,050\n",
       "├─MaxPool2d: 1-4                         [16, 50, 25, 25]          --\n",
       "├─Linear: 1-5                            [16, 500]                 15,625,500\n",
       "├─Linear: 1-6                            [16, 8]                   4,008\n",
       "==========================================================================================\n",
       "Total params: 15,656,198\n",
       "Trainable params: 15,656,198\n",
       "Non-trainable params: 0\n",
       "Total mult-adds (G): 7.35\n",
       "==========================================================================================\n",
       "Input size (MB): 1.44\n",
       "Forward/backward pass size (MB): 156.54\n",
       "Params size (MB): 62.62\n",
       "Estimated Total Size (MB): 220.61\n",
       "=========================================================================================="
      ]
     },
     "execution_count": 21,
     "metadata": {},
     "output_type": "execute_result"
    }
   ],
   "source": [
    "# Model summary\n",
    "summary_model(model, device)"
   ]
  },
  {
   "cell_type": "code",
   "execution_count": 24,
   "id": "2d4f4a2f-6ae2-4463-836f-976c827ca0be",
   "metadata": {},
   "outputs": [
    {
     "name": "stdout",
     "output_type": "stream",
     "text": [
      " Epoch 1 \t Training Loss: 0.564 \t Test Loss: 0.87\n",
      " Epoch Train Accuracy (%): 78.86 \t Epoch test Accuracy (%) 70.45\n",
      " Epoch Time (s): 44.0\n",
      " Epoch 2 \t Training Loss: 0.47 \t Test Loss: 1.001\n",
      " Epoch Train Accuracy (%): 82.29 \t Epoch test Accuracy (%) 69.32\n",
      " Epoch Time (s): 43.6\n",
      " Epoch 3 \t Training Loss: 0.48 \t Test Loss: 1.142\n",
      " Epoch Train Accuracy (%): 82.57 \t Epoch test Accuracy (%) 65.91\n",
      " Epoch Time (s): 43.2\n",
      " Epoch 4 \t Training Loss: 0.506 \t Test Loss: 0.885\n",
      " Epoch Train Accuracy (%): 80.57 \t Epoch test Accuracy (%) 73.86\n",
      " Epoch Time (s): 43.9\n",
      " Epoch 5 \t Training Loss: 0.609 \t Test Loss: 1.233\n",
      " Epoch Train Accuracy (%): 79.71 \t Epoch test Accuracy (%) 63.64\n",
      " Epoch Time (s): 42.5\n",
      " Epoch 6 \t Training Loss: 0.401 \t Test Loss: 0.965\n",
      " Epoch Train Accuracy (%): 85.43 \t Epoch test Accuracy (%) 70.45\n",
      " Epoch Time (s): 42.6\n",
      " Epoch 7 \t Training Loss: 0.353 \t Test Loss: 1.114\n",
      " Epoch Train Accuracy (%): 88.57 \t Epoch test Accuracy (%) 70.45\n",
      " Epoch Time (s): 44.7\n",
      " Epoch 8 \t Training Loss: 0.461 \t Test Loss: 1.218\n",
      " Epoch Train Accuracy (%): 83.71 \t Epoch test Accuracy (%) 69.32\n",
      " Epoch Time (s): 43.6\n",
      " Epoch 9 \t Training Loss: 0.399 \t Test Loss: 0.896\n",
      " Epoch Train Accuracy (%): 85.43 \t Epoch test Accuracy (%) 73.86\n",
      " Epoch Time (s): 43.8\n",
      " Epoch 10 \t Training Loss: 0.357 \t Test Loss: 1.298\n",
      " Epoch Train Accuracy (%): 89.14 \t Epoch test Accuracy (%) 68.18\n",
      " Epoch Time (s): 42.2\n",
      " Epoch 11 \t Training Loss: 0.275 \t Test Loss: 1.076\n",
      " Epoch Train Accuracy (%): 92.29 \t Epoch test Accuracy (%) 76.14\n",
      " Epoch Time (s): 43.6\n",
      " Epoch 12 \t Training Loss: 0.317 \t Test Loss: 1.256\n",
      " Epoch Train Accuracy (%): 88.86 \t Epoch test Accuracy (%) 68.18\n",
      " Epoch Time (s): 42.5\n",
      " Epoch 13 \t Training Loss: 0.268 \t Test Loss: 1.308\n",
      " Epoch Train Accuracy (%): 90.0 \t Epoch test Accuracy (%) 70.45\n",
      " Epoch Time (s): 41.7\n",
      " Epoch 14 \t Training Loss: 0.269 \t Test Loss: 1.359\n",
      " Epoch Train Accuracy (%): 90.29 \t Epoch test Accuracy (%) 70.45\n",
      " Epoch Time (s): 43.0\n",
      " Epoch 15 \t Training Loss: 0.353 \t Test Loss: 1.082\n",
      " Epoch Train Accuracy (%): 90.0 \t Epoch test Accuracy (%) 76.14\n",
      " Epoch Time (s): 42.1\n",
      " Epoch 16 \t Training Loss: 0.213 \t Test Loss: 1.113\n",
      " Epoch Train Accuracy (%): 93.71 \t Epoch test Accuracy (%) 76.14\n",
      " Epoch Time (s): 42.9\n",
      " Epoch 17 \t Training Loss: 0.246 \t Test Loss: 1.189\n",
      " Epoch Train Accuracy (%): 89.71 \t Epoch test Accuracy (%) 71.59\n",
      " Epoch Time (s): 43.5\n",
      " Epoch 18 \t Training Loss: 0.242 \t Test Loss: 1.457\n",
      " Epoch Train Accuracy (%): 90.29 \t Epoch test Accuracy (%) 68.18\n",
      " Epoch Time (s): 44.3\n"
     ]
    }
   ],
   "source": [
    "# Train the model\n",
    "MODEL_10_EPOCHS, RESULTS_10_EPOCHS =  train_model(model, device, trainloader, testloader,\n",
    "                                           criterion, optimizer, num_epochs=10)"
   ]
  },
  {
   "cell_type": "markdown",
   "id": "085eda1a-c30c-4076-a5fd-8dba3f2c495f",
   "metadata": {},
   "source": [
    "# USEFUL FUNCTIONS"
   ]
  },
  {
   "cell_type": "code",
   "execution_count": 22,
   "id": "8fbdabfc-e7a3-42fe-a4fe-cfd6887075f8",
   "metadata": {},
   "outputs": [],
   "source": [
    "def prediction(model, device, data_loader):\n",
    "    '''\n",
    "    Calculate predicted class indices of the data_loader by the trained model \n",
    "    '''\n",
    "    model = model.to(device)\n",
    "    y_pred = []\n",
    "    y_true = []\n",
    "    with torch.no_grad():\n",
    "        for data in data_loader:\n",
    "            image, class_name, class_index = data\n",
    "            image = image.to(device)\n",
    "            class_index = class_index.to(device)\n",
    "            outputs = model(image)\n",
    "            outputs = (torch.max(torch.exp(outputs), 1)[1]).data.cpu().numpy()\n",
    "            y_pred.extend(outputs)\n",
    "            class_index = class_index.data.cpu().numpy()\n",
    "            y_true.extend(class_index)\n",
    "    return y_pred, y_true"
   ]
  },
  {
   "cell_type": "code",
   "execution_count": 23,
   "id": "d5190fee-3105-48ae-974c-87bfe9a4098f",
   "metadata": {},
   "outputs": [],
   "source": [
    "def model_performance(y_true, y_pred, class_names):\n",
    "    num_classes = len(class_names)\n",
    "    \n",
    "    # build confusion matrix based on predictions and class_index\n",
    "    confusion_matrix = torch.zeros(num_classes, num_classes)\n",
    "    for i in range(len(y_pred)):\n",
    "        # true label on row, predicted on column\n",
    "        confusion_matrix[y_true[i], y_pred[i]] += 1\n",
    "\n",
    "    # PER-CLASS METRICS:\n",
    "    # calculate accuracy, precision, recall, f1 for each class:\n",
    "    accuracy = torch.zeros(num_classes)\n",
    "    precision = torch.zeros(num_classes)\n",
    "    recall = torch.zeros(num_classes)\n",
    "    f1_score = torch.zeros(num_classes)\n",
    "    for i in range(num_classes):\n",
    "        # find TP, FP, FN, TN for each class:\n",
    "        TP = confusion_matrix[i, i]\n",
    "        FP = torch.sum(confusion_matrix[i, :]) - TP\n",
    "        FN = torch.sum(confusion_matrix[:, i]) - TP\n",
    "        TN = torch.sum(confusion_matrix) - TP - FP - FN\n",
    "        # calculate accuracy, precision, recall, f1 for each class:\n",
    "        accuracy[i] = (TP+TN)/(TP+FP+FN+TN)\n",
    "        precision[i] = TP/(TP+FP)\n",
    "        recall[i] = TP/(TP+FN)\n",
    "        f1_score[i] = 2*precision[i]*recall[i]/(precision[i]+recall[i])\n",
    "    # calculate support for each class\n",
    "    support = torch.sum(confusion_matrix, dim=0)\n",
    "    # calculate support proportion for each class\n",
    "    support_prop = support/torch.sum(support)\n",
    "\n",
    "    # OVERALL METRICS\n",
    "    # calculate overall accuracy:\n",
    "    overall_acc = torch.sum(torch.diag(confusion_matrix)\n",
    "                            )/torch.sum(confusion_matrix)\n",
    "    # calculate macro average F1 score:\n",
    "    macro_avg_f1_score = torch.sum(f1_score)/num_classes\n",
    "    # calculate weighted average rF1 score based on support proportion:\n",
    "    weighted_avg_f1_score = torch.sum(f1_score*support_prop)\n",
    "\n",
    "    TP = torch.diag(confusion_matrix)\n",
    "    FP = torch.sum(confusion_matrix, dim=1) - TP\n",
    "    FN = torch.sum(confusion_matrix, dim=0) - TP\n",
    "    TN = torch.sum(confusion_matrix) - (TP + FP + FN)\n",
    "\n",
    "    # calculate micro average f1 score based on TP, FP, FN\n",
    "    micro_avg_f1_score = torch.sum(\n",
    "        2*TP)/(torch.sum(2*TP)+torch.sum(FP)+torch.sum(FN))\n",
    "\n",
    "    # METRICS PRESENTATION\n",
    "    # performance for each class\n",
    "    class_columns = ['accuracy', 'precision', 'recall', 'f1_score']\n",
    "    class_data_raw = [accuracy.numpy(), precision.numpy(),\n",
    "                      recall.numpy(), f1_score.numpy()]\n",
    "    class_data = np.around(class_data_raw, decimals=3)\n",
    "    df_class_raw = pd.DataFrame(\n",
    "        class_data, index=class_columns, columns=class_names)\n",
    "    class_metrics = df_class_raw.T\n",
    "\n",
    "    # overall performance\n",
    "    overall_columns = ['accuracy', 'f1_mirco', 'f1_macro', 'f1_weighted']\n",
    "    overall_data_raw = [overall_acc.numpy(), micro_avg_f1_score.numpy(\n",
    "    ), macro_avg_f1_score.numpy(), weighted_avg_f1_score.numpy()]\n",
    "    overall_data = np.around(overall_data_raw, decimals=3)\n",
    "    overall_metrics = pd.DataFrame(\n",
    "        overall_data, index=overall_columns, columns=['overall'])\n",
    "    return confusion_matrix, class_metrics, overall_metrics\n",
    "\n",
    "def get_current_timestamp():\n",
    "    now = datetime.datetime.now()\n",
    "    return now.strftime(\"%Y%m%d_%H%M%S\")\n",
    "\n",
    "\n",
    "def save_model_with_timestamp(model, filepath = SAVE_MODEL_TO):\n",
    "    filename = f'{get_current_timestamp()}_cnn_model.pt'\n",
    "    filepath = os.path.join(filepath, filename)\n",
    "    torch.save(model.state_dict(), filepath)\n",
    "    return print('Saved model to: ', filepath)\n",
    "\n",
    "\n",
    "def save_csv_with_timestamp(train_result_dict, filepath = SAVE_MODEL_TO):\n",
    "    filename = f'{get_current_timestamp()}_training_report.csv'\n",
    "    filepath = os.path.join(filepath, filename)\n",
    "    df = pd.DataFrame(train_result_dict)\n",
    "    df.to_csv(filepath)\n",
    "    return print('Saved training report to: ', filepath)"
   ]
  },
  {
   "cell_type": "code",
   "execution_count": 24,
   "id": "f68aab20-cea0-4b15-8432-0b074639d5b5",
   "metadata": {},
   "outputs": [],
   "source": [
    "def plot_results(train_result:dict,trained_model_num_epochs,figsize=(15, 7)):\n",
    "    # Define Datatrain_result\n",
    "    df = pd.DataFrame(train_result)\n",
    "    x = df['epoch']\n",
    "    data_1 = df['train_loss']\n",
    "    data_2 = df['test_loss']\n",
    "    data_3 = df['train_accuracy']\n",
    "    data_4 = df['test_accuracy']\n",
    "\n",
    "    # Create Plot\n",
    "    plt.figure(figsize=figsize)\n",
    "    ax1 = plt.subplot(1,2,1)\n",
    "    ax1.set_xlabel('Epoch')\n",
    "    ax1.set_ylabel('Loss')\n",
    "    ax1.set_title('Loss function')\n",
    "    ax1.plot(x, data_1, color='red', label='training loss')\n",
    "    ax1.plot(x, data_2, color='blue', label='Test loss')\n",
    "    ax1.legend(loc='best')\n",
    "\n",
    "    # Adding Twin Axes\n",
    "    ax2 = plt.subplot(1,2,2)\n",
    "    ax2.set_xlabel('Epoch')\n",
    "    ax2.set_ylabel('Accuraccy')\n",
    "    ax2.set_title('Model quality')\n",
    "    ax2.set_ylim([1,100])\n",
    "    ax2.plot(x, data_3, color='red', label='Training Accuracy')\n",
    "    ax2.plot(x, data_4, color='blue', label='Test Accuracy')\n",
    "    ax2.legend(loc='best')\n",
    "    \n",
    "    plt.savefig(f'MODEL_{trained_model_num_epochs}_EPOCHS_{get_current_timestamp()}.jpg',dpi=300)\n",
    "    # Show plot\n",
    "    plt.show()"
   ]
  },
  {
   "cell_type": "code",
   "execution_count": 48,
   "id": "7862018a-9717-47e5-a5ce-7e862befc5bd",
   "metadata": {},
   "outputs": [
    {
     "name": "stdout",
     "output_type": "stream",
     "text": [
      "Saved model to:  ../model/20230417_141846_cnn_model.pt\n"
     ]
    }
   ],
   "source": [
    "save_model_with_timestamp(trained_model, SAVE_MODEL_TO)"
   ]
  },
  {
   "cell_type": "code",
   "execution_count": 25,
   "id": "2e85919a-0ba0-4df8-895b-c05a7c24ffe4",
   "metadata": {},
   "outputs": [
    {
     "name": "stdout",
     "output_type": "stream",
     "text": [
      "Net(\n",
      "  (conv1): Conv2d(1, 20, kernel_size=(9, 9), stride=(1, 1))\n",
      "  (pool1): MaxPool2d(kernel_size=11, stride=1, padding=0, dilation=1, ceil_mode=False)\n",
      "  (conv2): Conv2d(20, 50, kernel_size=(5, 5), stride=(1, 1))\n",
      "  (pool2): MaxPool2d(kernel_size=8, stride=5, padding=0, dilation=1, ceil_mode=False)\n",
      "  (fc1): Linear(in_features=31250, out_features=500, bias=True)\n",
      "  (fc2): Linear(in_features=500, out_features=8, bias=True)\n",
      ")\n"
     ]
    },
    {
     "data": {
      "text/plain": [
       "<All keys matched successfully>"
      ]
     },
     "execution_count": 25,
     "metadata": {},
     "output_type": "execute_result"
    }
   ],
   "source": [
    "# trained_model_list = os.listdir(SAVE_MODEL_TO)\n",
    "# MODEL_10_EPOCH_PATH = os.path.join(SAVE_MODEL_TO, trained_model_list[0])\n",
    "\n",
    "# LOADED_MODEL_10_EPOCHS = Net()\n",
    "# device = get_default_device()\n",
    "\n",
    "# print(LOADED_MODEL_10_EPOCHS)\n",
    "# LOADED_MODEL_10_EPOCHS.load_state_dict(torch.load(MODEL_10_EPOCH_PATH))\n",
    "trained_model = Net()\n",
    "device = get_default_device()\n",
    "\n",
    "print(trained_model)\n",
    "trained_model.load_state_dict(torch.load(r'trained_net.pth'))"
   ]
  },
  {
   "cell_type": "code",
   "execution_count": 27,
   "id": "10f8f939-08cb-44bb-8134-c9b7905d00b6",
   "metadata": {},
   "outputs": [
    {
     "name": "stdout",
     "output_type": "stream",
     "text": [
      "tensor([[ 0.,  0.,  0.,  0.,  0.,  2.,  1.,  3.],\n",
      "        [ 1., 13.,  4.,  3.,  4.,  0.,  1.,  0.],\n",
      "        [ 0.,  0.,  0.,  1.,  0.,  0.,  0.,  0.],\n",
      "        [ 0.,  0.,  0.,  3.,  0.,  0.,  1.,  0.],\n",
      "        [ 6.,  0.,  2.,  2.,  8.,  2.,  5.,  0.],\n",
      "        [ 1.,  0.,  0.,  0.,  0., 13.,  0.,  2.],\n",
      "        [ 0.,  0.,  0.,  0.,  0.,  5.,  5.,  0.],\n",
      "        [ 0.,  0.,  0.,  0.,  0.,  0.,  0.,  0.]])\n",
      "                 accuracy  precision  recall  f1_score\n",
      "Chaining            0.841      0.000   0.000       NaN\n",
      "Direct path         0.852      0.500   1.000     0.667\n",
      "Direct search       0.920      0.000   0.000       NaN\n",
      "Focal search        0.920      0.750   0.333     0.462\n",
      "Indirect search     0.761      0.320   0.667     0.432\n",
      "Random search       0.864      0.812   0.591     0.684\n",
      "Scanning            0.852      0.500   0.385     0.435\n",
      "Thigmotaxis         0.943        NaN   0.000       NaN\n",
      "             overall\n",
      "accuracy       0.477\n",
      "f1_mirco       0.477\n",
      "f1_macro         NaN\n",
      "f1_weighted      NaN\n"
     ]
    }
   ],
   "source": [
    "# check accuracy on test set\n",
    "y_pred, y_true = prediction(model = trained_model,\n",
    "                            device = device, data_loader = testloader)\n",
    "confusion_matrix, class_metrics, overall_metrics = model_performance(y_pred, y_true, \n",
    "                                                                     class_names = class_names)\n",
    "print(confusion_matrix)\n",
    "print(class_metrics)\n",
    "print(overall_metrics)"
   ]
  },
  {
   "cell_type": "code",
   "execution_count": 62,
   "id": "217570aa-0539-4197-96b3-c78b15701cdf",
   "metadata": {},
   "outputs": [
    {
     "name": "stdout",
     "output_type": "stream",
     "text": [
      "Class1: 8\n",
      "Class2: 13\n",
      "Class3: 6\n",
      "Class4: 9\n",
      "Class5: 12\n",
      "Class6: 22\n",
      "Class7: 13\n",
      "Class8: 5\n"
     ]
    }
   ],
   "source": [
    "for i in range(8):\n",
    "    num = sum(np.array(y_true)==i)\n",
    "    print(f'Class{i+1}: {num}')"
   ]
  },
  {
   "cell_type": "code",
   "execution_count": 35,
   "id": "091c017a-8b87-47fe-a060-9f8f75369716",
   "metadata": {},
   "outputs": [
    {
     "data": {
      "image/png": "[encoded data removed]",
      "text/plain": [
       "<Figure size 1500x700 with 2 Axes>"
      ]
     },
     "metadata": {},
     "output_type": "display_data"
    }
   ],
   "source": [
    "plot_results(results_dict)"
   ]
  },
  {
   "cell_type": "code",
   "execution_count": null,
   "id": "1b2343cc-c0c2-488c-ae9e-d8216baeae43",
   "metadata": {},
   "outputs": [],
   "source": []
  },
  {
   "cell_type": "code",
   "execution_count": null,
   "id": "cfce8270-dcdd-4686-afb7-63e1cb174033",
   "metadata": {},
   "outputs": [],
   "source": []
  },
  {
   "cell_type": "code",
   "execution_count": null,
   "id": "15e0b4f6-903e-45b3-8a6e-766b65214f59",
   "metadata": {},
   "outputs": [],
   "source": [
    "MODEL_15_EPOCHS, RESULTS_15_EPOCHS =  train_model(model, device, trainloader, testloader,\n",
    "                                           criterion, optimizer, num_epochs=10)"
   ]
  },
  {
   "cell_type": "code",
   "execution_count": null,
   "id": "136bdbd9-3541-44b8-ae0b-6c04bca54f19",
   "metadata": {},
   "outputs": [],
   "source": []
  },
  {
   "cell_type": "code",
   "execution_count": null,
   "id": "5cd654d6-9aa7-4696-82fa-03f6a78e2625",
   "metadata": {},
   "outputs": [],
   "source": [
    "MODEL_20_EPOCHS, RESULTS_20_EPOCHS =  train_model(model, device, trainloader, testloader,\n",
    "                                           criterion, optimizer, num_epochs=10)"
   ]
  },
  {
   "cell_type": "code",
   "execution_count": null,
   "id": "bbd4d65a-5b42-4649-98c0-00bdab65cf08",
   "metadata": {},
   "outputs": [],
   "source": []
  },
  {
   "cell_type": "code",
   "execution_count": null,
   "id": "5884713d-051b-4654-b431-c74d0e95e704",
   "metadata": {},
   "outputs": [],
   "source": []
  }
 ],
 "metadata": {
  "kernelspec": {
   "display_name": "Python 3 (ipykernel)",
   "language": "python",
   "name": "python3"
  },
  "language_info": {
   "codemirror_mode": {
    "name": "ipython",
    "version": 3
   },
   "file_extension": ".py",
   "mimetype": "text/x-python",
   "name": "python",
   "nbconvert_exporter": "python",
   "pygments_lexer": "ipython3",
   "version": "3.8.13"
  }
 },
 "nbformat": 4,
 "nbformat_minor": 5
}
